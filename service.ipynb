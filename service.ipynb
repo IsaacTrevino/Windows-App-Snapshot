{
 "cells": [
  {
   "cell_type": "code",
   "execution_count": null,
   "metadata": {},
   "outputs": [],
   "source": [
    "import subprocess\n",
    "import json\n",
    "import os"
   ]
  },
  {
   "cell_type": "markdown",
   "metadata": {},
   "source": [
    "## Get Active Apps"
   ]
  },
  {
   "cell_type": "code",
   "execution_count": null,
   "metadata": {},
   "outputs": [],
   "source": [
    "\n",
    "cmd = \"Get-Process | Where-Object { $_.MainWindowTitle } | Select-Object MainWindowTitle, Path | Format-Table -AutoSize -Wrap\"\n",
    "process = subprocess.Popen([\"powershell\", \"-Command\", cmd], stdout=subprocess.PIPE)\n",
    "output = process.communicate()[0]\n",
    "output = output.decode(\"utf-8\").splitlines()\n",
    "output = output[3:]\n",
    "output = list(filter(None, output))\n",
    "for i in range(len(output)):\n",
    "    if output[i].startswith(\" \"):\n",
    "        output[i - 1] += output[i].strip()\n",
    "        output[i] = \"\"\n",
    "\n",
    "output = list(filter(None, output))\n",
    "output = [x.strip() for x in output]\n",
    "output = [x for x in output if len(x) > 1]\n",
    "\n"
   ]
  },
  {
   "cell_type": "code",
   "execution_count": null,
   "metadata": {},
   "outputs": [],
   "source": [
    "output"
   ]
  },
  {
   "cell_type": "code",
   "execution_count": null,
   "metadata": {},
   "outputs": [],
   "source": [
    "json_obj: dict = {}\n",
    "for i in range(len(output)):\n",
    "    output[i] = output[i].split(\"C:\\\\\")\n",
    "    output[i] = [x for x in output[i] if x]\n",
    "for i in range(len(output)):\n",
    "    if len(output[i]) > 1:\n",
    "        json_obj[output[i][0].strip().split(\"-\")[-1].strip()] = (\n",
    "            \"C:\\\\\" + output[i][1].strip()\n",
    "        )"
   ]
  },
  {
   "cell_type": "code",
   "execution_count": null,
   "metadata": {},
   "outputs": [],
   "source": [
    "ignore_keys = [\n",
    "    \"Settings\",\n",
    "    \"NVIDIA GeForce Overlay\",\n",
    "    \"Windows Input Experience\",\n",
    "    \"Mail\",\n",
    "]\n",
    "for key in ignore_keys:\n",
    "    json_obj.pop(key, None)"
   ]
  },
  {
   "cell_type": "code",
   "execution_count": null,
   "metadata": {},
   "outputs": [],
   "source": [
    "script_dir = os.getcwd()\n",
    "json_file = os.path.join(script_dir, \"active_apps.json\")\n",
    "with open(json_file, \"w\") as f:\n",
    "    json.dump(json_obj, f, indent=4)"
   ]
  },
  {
   "cell_type": "markdown",
   "metadata": {},
   "source": [
    "## Open Apps on startup"
   ]
  },
  {
   "cell_type": "code",
   "execution_count": null,
   "metadata": {},
   "outputs": [],
   "source": [
    "def on_startup(apps: dict):\n",
    "    for app in apps:\n",
    "        print(apps[app])\n",
    "        subprocess.Popen(apps[app])"
   ]
  }
 ],
 "metadata": {
  "kernelspec": {
   "display_name": "Python 3",
   "language": "python",
   "name": "python3"
  },
  "language_info": {
   "codemirror_mode": {
    "name": "ipython",
    "version": 3
   },
   "file_extension": ".py",
   "mimetype": "text/x-python",
   "name": "python",
   "nbconvert_exporter": "python",
   "pygments_lexer": "ipython3",
   "version": "3.13.0"
  }
 },
 "nbformat": 4,
 "nbformat_minor": 2
}
